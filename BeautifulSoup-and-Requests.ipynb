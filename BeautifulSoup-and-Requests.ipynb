{
 "cells": [
  {
   "cell_type": "code",
   "execution_count": null,
   "id": "37614c6a",
   "metadata": {},
   "outputs": [],
   "source": [
    "# Importing the two important modules for web scraping \n",
    "from bs4 import BeautifulSoup\n",
    "import requests "
   ]
  },
  {
   "cell_type": "code",
   "execution_count": null,
   "id": "d268aed0",
   "metadata": {},
   "outputs": [],
   "source": [
    "#We will take the url to use for web scraping \n",
    "url = 'https://www.scrapethissite.com/pages/forms'"
   ]
  },
  {
   "cell_type": "code",
   "execution_count": null,
   "id": "ee364714",
   "metadata": {},
   "outputs": [],
   "source": [
    "page = requests.get(url)"
   ]
  },
  {
   "cell_type": "code",
   "execution_count": null,
   "id": "93a26b93",
   "metadata": {},
   "outputs": [],
   "source": [
    "soup = BeautifulSoup(page.text, 'html')"
   ]
  },
  {
   "cell_type": "code",
   "execution_count": null,
   "id": "af96124f",
   "metadata": {
    "scrolled": false
   },
   "outputs": [],
   "source": [
    "print(soup)"
   ]
  },
  {
   "cell_type": "code",
   "execution_count": null,
   "id": "dd8534a3",
   "metadata": {},
   "outputs": [],
   "source": [
    "print(soup.prettify())"
   ]
  },
  {
   "cell_type": "code",
   "execution_count": null,
   "id": "2db57ab9",
   "metadata": {},
   "outputs": [],
   "source": [
    "soup.find('div')"
   ]
  },
  {
   "cell_type": "code",
   "execution_count": null,
   "id": "c2e00c0d",
   "metadata": {},
   "outputs": [],
   "source": [
    "soup.find_all('div')"
   ]
  },
  {
   "cell_type": "code",
   "execution_count": 12,
   "id": "6fd34ba0",
   "metadata": {},
   "outputs": [
    {
     "data": {
      "text/plain": [
       "[<div class=\"col-md-12\">\n",
       " <ul class=\"nav nav-tabs\">\n",
       " <li id=\"nav-homepage\">\n",
       " <a class=\"nav-link hidden-sm hidden-xs\" href=\"/\">\n",
       " <img id=\"nav-logo\" src=\"/static/images/scraper-icon.png\"/>\n",
       "                                 Scrape This Site\n",
       "                             </a>\n",
       " </li>\n",
       " <li id=\"nav-sandbox\">\n",
       " <a class=\"nav-link\" href=\"/pages/\">\n",
       " <i class=\"glyphicon glyphicon-console hidden-sm hidden-xs\"></i>\n",
       "                                 Sandbox\n",
       "                             </a>\n",
       " </li>\n",
       " <li id=\"nav-lessons\">\n",
       " <a class=\"nav-link\" href=\"/lessons/\">\n",
       " <i class=\"glyphicon glyphicon-education hidden-sm hidden-xs\"></i>\n",
       "                                 Lessons\n",
       "                             </a>\n",
       " </li>\n",
       " <li id=\"nav-faq\">\n",
       " <a class=\"nav-link\" href=\"/faq/\">\n",
       " <i class=\"glyphicon glyphicon-flag hidden-sm hidden-xs\"></i>\n",
       "                                 FAQ\n",
       "                             </a>\n",
       " </li>\n",
       " <li class=\"pull-right\" id=\"nav-login\">\n",
       " <a class=\"nav-link\" href=\"/login/\">\n",
       "                                 Login\n",
       "                             </a>\n",
       " </li>\n",
       " </ul>\n",
       " </div>,\n",
       " <div class=\"col-md-12\">\n",
       " <h1>\n",
       "                             Hockey Teams: Forms, Searching and Pagination\n",
       "                             <small>25 items</small>\n",
       " </h1>\n",
       " <hr/>\n",
       " </div>,\n",
       " <div class=\"col-md-12\">\n",
       " <p class=\"lead\">\n",
       "                             Browse through a database of NHL team stats since 1990. Practice building a scraper that handles common website interface components.\n",
       "                             Take a look at how pagination and search elements change the URL as your browse. Build a web scraper that can conduct searches and paginate through the results.\n",
       "                         </p>\n",
       " <hr/>\n",
       " </div>,\n",
       " <div class=\"col-md-12 text-center\">\n",
       " <form action=\"/pages/forms/\" class=\"form form-inline\" method=\"GET\">\n",
       " <label for=\"q\">\n",
       "                                 Search for Teams:  \n",
       "                             </label>\n",
       " <input class=\"form-control\" id=\"q\" name=\"q\" placeholder=\"Search for Teams\" type=\"text\"/>\n",
       " <input class=\"btn btn-primary\" type=\"submit\" value=\"Search\"/>\n",
       " </form>\n",
       " <hr/>\n",
       " </div>,\n",
       " <div class=\"col-md-12 text-center text-muted\">\n",
       "                     Lessons and Videos © Hartley Brody 2023\n",
       "                 </div>]"
      ]
     },
     "execution_count": 12,
     "metadata": {},
     "output_type": "execute_result"
    }
   ],
   "source": [
    "soup.find_all('div', class_ = 'col-md-12')"
   ]
  },
  {
   "cell_type": "code",
   "execution_count": null,
   "id": "36d09b05",
   "metadata": {},
   "outputs": [],
   "source": [
    "#Do not use the find all function , it doesn't support the text attribute \n",
    "soup.find_all('p', class_ ='lead').text\n"
   ]
  },
  {
   "cell_type": "code",
   "execution_count": 11,
   "id": "fe6dde6f",
   "metadata": {},
   "outputs": [
    {
     "data": {
      "text/plain": [
       "'Browse through a database of NHL team stats since 1990. Practice building a scraper that handles common website interface components.\\n                            Take a look at how pagination and search elements change the URL as your browse. Build a web scraper that can conduct searches and paginate through the results.'"
      ]
     },
     "execution_count": 11,
     "metadata": {},
     "output_type": "execute_result"
    }
   ],
   "source": [
    "soup.find('p', class_ = 'lead').text.strip()"
   ]
  }
 ],
 "metadata": {
  "kernelspec": {
   "display_name": "Python 3 (ipykernel)",
   "language": "python",
   "name": "python3"
  },
  "language_info": {
   "codemirror_mode": {
    "name": "ipython",
    "version": 3
   },
   "file_extension": ".py",
   "mimetype": "text/x-python",
   "name": "python",
   "nbconvert_exporter": "python",
   "pygments_lexer": "ipython3",
   "version": "3.11.4"
  }
 },
 "nbformat": 4,
 "nbformat_minor": 5
}
